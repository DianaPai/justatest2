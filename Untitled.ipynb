{
 "cells": [
  {
   "cell_type": "code",
   "execution_count": 1,
   "id": "e17f828c-ad5c-479a-9cdb-0017a8e1bb12",
   "metadata": {},
   "outputs": [],
   "source": [
    "import mlflow.sklearn\n",
    "from mlflow.store.artifact.runs_artifact_repo import RunsArtifactRepository\n",
    "from mlflow import MlflowClient\n",
    "from sklearn.ensemble import RandomForestRegressor"
   ]
  },
  {
   "cell_type": "code",
   "execution_count": 2,
   "id": "45c3d821-c0eb-473b-86e6-75f0c9fb838b",
   "metadata": {},
   "outputs": [],
   "source": [
    "params = {\"n_estimators\": 3, \"random_state\": 42}\n",
    "name = \"RandomForestRegression\"\n",
    "\n",
    "# Create and train your model\n",
    "rfr = RandomForestRegressor(**params).fit([[0, 1]], [1])"
   ]
  },
  {
   "cell_type": "code",
   "execution_count": 3,
   "id": "0fa5d129-7a18-4f32-bbe6-32d8df2b5fd2",
   "metadata": {},
   "outputs": [
    {
     "name": "stderr",
     "output_type": "stream",
     "text": [
      "\u001b[31m2025/09/05 19:24:17 WARNING mlflow.models.model: Model logged without a signature and input example. Please set `input_example` parameter when logging the model to auto infer the model signature.\u001b[0m\n"
     ]
    },
    {
     "name": "stdout",
     "output_type": "stream",
     "text": [
      "🏃 View run delightful-cod-330 at: http://127.0.0.1:8768/#/experiments/1/runs/0291aa04ba6f49ed95bf1586ebd45456\n",
      "🧪 View experiment at: http://127.0.0.1:8768/#/experiments/1\n"
     ]
    }
   ],
   "source": [
    "with mlflow.start_run() as run:\n",
    "    mlflow.log_params(params)\n",
    "    mlflow.sklearn.log_model(rfr, artifact_path=\"sklearn-model\")"
   ]
  },
  {
   "cell_type": "code",
   "execution_count": 4,
   "id": "f08b8f91-63d5-470f-b8e9-ca272e1be5ce",
   "metadata": {},
   "outputs": [
    {
     "data": {
      "text/plain": [
       "<RegisteredModel: aliases={}, creation_timestamp=1757100277392, description='', last_updated_timestamp=1757100277392, latest_versions=[], name='RandomForestRegression', tags={'mlflow.domino.dataset_info': '68b891b7012dc00844032999-68b891b7012dc00844032998',\n",
       " 'mlflow.domino.environment_id': '68711eb4190c2c6a825dcca6',\n",
       " 'mlflow.domino.environment_revision_id': '68711eb4190c2c6a825dcca8',\n",
       " 'mlflow.domino.hardware_tier': 'small-k8s',\n",
       " 'mlflow.domino.project_id': '68b891b4012dc00844032993',\n",
       " 'mlflow.domino.project_name': 'diana-git',\n",
       " 'mlflow.domino.provenance_checkpoint_id': '68bb37f7d7ed6c0fffb74eb7',\n",
       " 'mlflow.domino.run_id': '68bb37ced7ed6c0fffb74eb2',\n",
       " 'mlflow.domino.run_number': '1',\n",
       " 'mlflow.domino.user': 'integration-test',\n",
       " 'mlflow.domino.user_id': '68711d8c7510d920c0e5b26b',\n",
       " 'mlflow.source.git.branch': 'master',\n",
       " 'mlflow.source.git.commit': '765e8ea723e105c3d8e8cde7da2c001dcb3a5405',\n",
       " 'mlflow.source.type': 'NOTEBOOK',\n",
       " 'mlflow.user': 'integration-test'}>"
      ]
     },
     "execution_count": 4,
     "metadata": {},
     "output_type": "execute_result"
    }
   ],
   "source": [
    "client = MlflowClient()\n",
    "client.create_registered_model(name)"
   ]
  },
  {
   "cell_type": "code",
   "execution_count": 5,
   "id": "1f20c789-8239-4324-a2df-bb7346edb184",
   "metadata": {},
   "outputs": [
    {
     "name": "stderr",
     "output_type": "stream",
     "text": [
      "2025/09/05 19:24:53 INFO mlflow.store.model_registry.abstract_store: Waiting up to 300 seconds for model version to finish creation. Model name: RandomForestRegression, version 1\n"
     ]
    }
   ],
   "source": [
    "model_version = client.create_model_version(\n",
    "    name=name,\n",
    "    source=f\"runs:/{run.info.run_id}/sklearn-model\",\n",
    "    run_id=run.info.run_id\n",
    ")"
   ]
  },
  {
   "cell_type": "code",
   "execution_count": null,
   "id": "f8e68712-f0b0-4ab6-ba3a-abf2a72a5589",
   "metadata": {},
   "outputs": [],
   "source": []
  }
 ],
 "metadata": {
  "kernelspec": {
   "display_name": "Python 3 (ipykernel)",
   "language": "python",
   "name": "python3"
  },
  "language_info": {
   "codemirror_mode": {
    "name": "ipython",
    "version": 3
   },
   "file_extension": ".py",
   "mimetype": "text/x-python",
   "name": "python",
   "nbconvert_exporter": "python",
   "pygments_lexer": "ipython3",
   "version": "3.10.14"
  }
 },
 "nbformat": 4,
 "nbformat_minor": 5
}
